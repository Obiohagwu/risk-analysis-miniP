{
 "cells": [
  {
   "cell_type": "code",
   "execution_count": 10,
   "metadata": {},
   "outputs": [],
   "source": [
    "import pandas as pd \n",
    "import numpy as np\n",
    "import sklearn"
   ]
  },
  {
   "cell_type": "code",
   "execution_count": 21,
   "metadata": {},
   "outputs": [
    {
     "data": {
      "text/plain": [
       "(201, 55)"
      ]
     },
     "execution_count": 21,
     "metadata": {},
     "output_type": "execute_result"
    }
   ],
   "source": [
    "dataset = pd.read_csv('loans_full_schema.csv')\n",
    "\n",
    "\n",
    "dataset = dataset.dropna()\n",
    "dataset.shape # We see that there are 201 indivdual records and 55 features\n"
   ]
  },
  {
   "cell_type": "code",
   "execution_count": 40,
   "metadata": {},
   "outputs": [
    {
     "data": {
      "text/plain": [
       "emp_title                            technical manager\n",
       "emp_length                                        10.0\n",
       "state                                               TX\n",
       "homeownership                                 MORTGAGE\n",
       "annual_income                                  75000.0\n",
       "verified_income                        Source Verified\n",
       "debt_to_income                                    3.18\n",
       "annual_income_joint                           134000.0\n",
       "verification_income_joint              Source Verified\n",
       "debt_to_income_joint                              9.13\n",
       "delinq_2y                                            0\n",
       "months_since_last_delinq                          58.0\n",
       "earliest_credit_line                              2005\n",
       "inquiries_last_12m                                   0\n",
       "total_credit_lines                                  18\n",
       "open_credit_lines                                    5\n",
       "total_credit_limit                              421603\n",
       "total_credit_utilized                             7553\n",
       "num_collections_last_12m                             0\n",
       "num_historical_failed_to_pay                         0\n",
       "months_since_90d_late                             58.0\n",
       "current_accounts_delinq                              0\n",
       "total_collection_amount_ever                         0\n",
       "current_installment_accounts                         0\n",
       "accounts_opened_24m                                  2\n",
       "months_since_last_credit_inquiry                  21.0\n",
       "num_satisfactory_accounts                            5\n",
       "num_accounts_120d_past_due                         0.0\n",
       "num_accounts_30d_past_due                            0\n",
       "num_active_debit_accounts                            1\n",
       "total_debit_limit                                11500\n",
       "num_total_cc_accounts                                9\n",
       "num_open_cc_accounts                                 3\n",
       "num_cc_carrying_balance                              1\n",
       "num_mort_accounts                                    5\n",
       "account_never_delinq_percent                      88.9\n",
       "tax_liens                                            0\n",
       "public_record_bankrupt                               0\n",
       "loan_purpose                        debt_consolidation\n",
       "application_type                                 joint\n",
       "loan_amount                                      33000\n",
       "term                                                60\n",
       "interest_rate                                    12.61\n",
       "installment                                     744.28\n",
       "grade                                                C\n",
       "sub_grade                                           C1\n",
       "issue_month                                   Mar-2018\n",
       "loan_status                                    Current\n",
       "initial_listing_status                           whole\n",
       "disbursement_method                               Cash\n",
       "balance                                       31794.91\n",
       "paid_total                                     2209.72\n",
       "paid_principal                                 1205.09\n",
       "paid_interest                                  1004.63\n",
       "paid_late_fees                                     0.0\n",
       "Name: 6840, dtype: object"
      ]
     },
     "execution_count": 40,
     "metadata": {},
     "output_type": "execute_result"
    }
   ],
   "source": [
    "dataset.iloc[np.random.randint(200)]"
   ]
  },
  {
   "cell_type": "code",
   "execution_count": 65,
   "metadata": {},
   "outputs": [
    {
     "data": {
      "text/plain": [
       "(191, 55)"
      ]
     },
     "execution_count": 65,
     "metadata": {},
     "output_type": "execute_result"
    }
   ],
   "source": [
    "# LOAN STATUS is an important predictor variable. \n",
    "# It has a high signal capacity for our target variables\n",
    "mainLoanSlice = dataset[(dataset['loan_status']==\"Current\") | (dataset['loan_status']==\"In Grace Period\")]\n",
    "intermed = {\"Current\":0, \"In Grace Period\": 1} # Here we convert our target variables to binary out\n",
    "datasetWithBoolTargets = mainLoanSlice.replace({\"loan_status\": intermed})\n",
    "datasetWithBoolTargets.shape"
   ]
  },
  {
   "cell_type": "code",
   "execution_count": 66,
   "metadata": {},
   "outputs": [
    {
     "data": {
      "text/plain": [
       "0    186\n",
       "1      5\n",
       "Name: loan_status, dtype: int64"
      ]
     },
     "execution_count": 66,
     "metadata": {},
     "output_type": "execute_result"
    }
   ],
   "source": [
    "datasetWithBoolTargets['loan_status'].value_counts()"
   ]
  },
  {
   "cell_type": "code",
   "execution_count": null,
   "metadata": {},
   "outputs": [],
   "source": []
  }
 ],
 "metadata": {
  "interpreter": {
   "hash": "416db25ea6b031cff68a2ad387b0f56bf954d915d5f61b3ff73e2c0605026044"
  },
  "kernelspec": {
   "display_name": "Python 3.8.12 64-bit ('pytorch_m1': conda)",
   "name": "python3"
  },
  "language_info": {
   "codemirror_mode": {
    "name": "ipython",
    "version": 3
   },
   "file_extension": ".py",
   "mimetype": "text/x-python",
   "name": "python",
   "nbconvert_exporter": "python",
   "pygments_lexer": "ipython3",
   "version": "3.8.12"
  },
  "orig_nbformat": 4
 },
 "nbformat": 4,
 "nbformat_minor": 2
}
